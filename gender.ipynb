{
 "metadata": {
  "language_info": {
   "codemirror_mode": {
    "name": "ipython",
    "version": 3
   },
   "file_extension": ".py",
   "mimetype": "text/x-python",
   "name": "python",
   "nbconvert_exporter": "python",
   "pygments_lexer": "ipython3",
   "version": "3.7.6-final"
  },
  "orig_nbformat": 2,
  "kernelspec": {
   "name": "python3",
   "display_name": "Python 3"
  }
 },
 "nbformat": 4,
 "nbformat_minor": 2,
 "cells": [
  {
   "cell_type": "code",
   "execution_count": null,
   "metadata": {},
   "outputs": [],
   "source": [
    "import numpy as np\n",
    "import sys \n",
    "import matplotlib.pyplot as plt\n",
    "from openpyxl import load_workbook,Workbook"
   ]
  },
  {
   "cell_type": "code",
   "execution_count": null,
   "metadata": {
    "tags": []
   },
   "outputs": [],
   "source": [
    "xs=load_workbook(filename=\"X.xlsx\")\n",
    "ys=load_workbook(filename=\"Y.xlsx\")\n",
    "x=xs.active\n",
    "x1=[]\n",
    "x2=[]\n",
    "y=[]\n",
    "x1temp=x[\"A\"]\n",
    "x2temp=x[\"B\"]\n",
    "ytemp=ys.active[\"A\"]\n",
    "for cell in x1temp:\n",
    "    x1.append(cell.value)\n",
    "for cell in x2temp:\n",
    "    x2.append(cell.value)\n",
    "for cell in ytemp:\n",
    "    y.append(cell.value)\n",
    "x1=np.array(x1)\n",
    "x2=np.array(x2)\n",
    "Y=np.array(y,dtype=np.uint8)\n",
    "Y=Y[:480]\n",
    "X=np.column_stack((x1,x2))\n",
    "X=X[:480]"
   ]
  },
  {
   "cell_type": "code",
   "execution_count": null,
   "metadata": {},
   "outputs": [],
   "source": [
    "plt.figure()\n",
    "for index, x in enumerate(X):\n",
    "    if Y[index]:\n",
    "        plt.scatter(x[0],x[1], c='m',marker='o')\n",
    "    else:\n",
    "        plt.scatter(x[0], x[1], c = 'r', marker = 'x')\n"
   ]
  },
  {
   "cell_type": "code",
   "execution_count": null,
   "metadata": {},
   "outputs": [],
   "source": []
  }
 ]
}